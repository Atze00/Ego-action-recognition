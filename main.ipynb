{
  "nbformat": 4,
  "nbformat_minor": 0,
  "metadata": {
    "colab": {
      "name": "project_.ipynb",
      "provenance": [],
      "collapsed_sections": []
    },
    "kernelspec": {
      "name": "python3",
      "display_name": "Python 3"
    },
    "accelerator": "GPU"
  },
  "cells": [
    {
      "cell_type": "code",
      "metadata": {
        "id": "cbiiBZddHGvF",
        "colab": {
          "base_uri": "https://localhost:8080/",
          "height": 129
        },
        "outputId": "97a34b13-45a3-4460-804f-bcbf9ff86fcb"
      },
      "source": [
        "from google.colab import drive\n",
        "drive.mount('/content/gdrive')"
      ],
      "execution_count": null,
      "outputs": [
        {
          "output_type": "stream",
          "text": [
            "Go to this URL in a browser: https://accounts.google.com/o/oauth2/auth?client_id=947318989803-6bn6qk8qdgf4n4g3pfee6491hc0brc4i.apps.googleusercontent.com&redirect_uri=urn%3aietf%3awg%3aoauth%3a2.0%3aoob&response_type=code&scope=email%20https%3a%2f%2fwww.googleapis.com%2fauth%2fdocs.test%20https%3a%2f%2fwww.googleapis.com%2fauth%2fdrive%20https%3a%2f%2fwww.googleapis.com%2fauth%2fdrive.photos.readonly%20https%3a%2f%2fwww.googleapis.com%2fauth%2fpeopleapi.readonly\n",
            "\n",
            "Enter your authorization code:\n",
            "··········\n",
            "Mounted at /content/gdrive\n"
          ],
          "name": "stdout"
        }
      ]
    },
    {
      "cell_type": "code",
      "metadata": {
        "id": "Y5rfpgrckr36",
        "colab": {
          "base_uri": "https://localhost:8080/",
          "height": 1000
        },
        "outputId": "3c41c209-bcb5-485f-a751-df9da70d783a"
      },
      "source": [
        "!rm -r project_1\n",
        "!git clone https://###:##@github.com/Atze00/###.git\n",
        "!cp \"/content/gdrive/My Drive/gtea_61_processed.zip\" \"./\"\n",
        "\n",
        "!unzip gtea_61_processed.zip\n",
        "!pip3 install tensorboardX"
      ],
      "execution_count": null,
      "outputs": [
        {
          "output_type": "stream",
          "text": [
            "Cloning into 'project_1'...\n",
            "remote: Enumerating objects: 12, done.\u001b[K\n",
            "remote: Counting objects: 100% (12/12), done.\u001b[K\n",
            "remote: Compressing objects: 100% (12/12), done.\u001b[K\n",
            "remote: Total 246 (delta 6), reused 0 (delta 0), pack-reused 234\u001b[K\n",
            "Receiving objects: 100% (246/246), 76.08 KiB | 437.00 KiB/s, done.\n",
            "Resolving deltas: 100% (152/152), done.\n"
          ],
          "name": "stdout"
        },
        {
          "output_type": "stream",
          "text": [
            "ERROR:root:Internal Python error in the inspect module.\n",
            "Below is the traceback from this internal error.\n",
            "\n"
          ],
          "name": "stderr"
        },
        {
          "output_type": "stream",
          "text": [
            "Traceback (most recent call last):\n",
            "  File \"/usr/local/lib/python3.6/dist-packages/IPython/core/interactiveshell.py\", line 2882, in run_code\n",
            "    exec(code_obj, self.user_global_ns, self.user_ns)\n",
            "  File \"<ipython-input-10-f8103b5971b1>\", line 3, in <module>\n",
            "    get_ipython().system('cp \"/content/gdrive/My Drive/gtea_61_processed.zip\" \"./\"')\n",
            "  File \"/usr/local/lib/python3.6/dist-packages/google/colab/_shell.py\", line 102, in system\n",
            "    output = _system_commands._system_compat(self, *args, **kwargs)  # pylint:disable=protected-access\n",
            "  File \"/usr/local/lib/python3.6/dist-packages/google/colab/_system_commands.py\", line 438, in _system_compat\n",
            "    shell.var_expand(cmd, depth=2), clear_streamed_output=False)\n",
            "  File \"/usr/local/lib/python3.6/dist-packages/google/colab/_system_commands.py\", line 195, in _run_command\n",
            "    return _monitor_process(parent_pty, epoll, p, cmd, update_stdin_widget)\n",
            "  File \"/usr/lib/python3.6/contextlib.py\", line 88, in __exit__\n",
            "    next(self.gen)\n",
            "  File \"/usr/local/lib/python3.6/dist-packages/google/colab/_system_commands.py\", line 355, in _display_stdin_widget\n",
            "    _message.blocking_request(*hide_args, parent=shell.parent_header)\n",
            "  File \"/usr/local/lib/python3.6/dist-packages/google/colab/_message.py\", line 171, in blocking_request\n",
            "    return read_reply_from_input(request_id, timeout_sec)\n",
            "  File \"/usr/local/lib/python3.6/dist-packages/google/colab/_message.py\", line 101, in read_reply_from_input\n",
            "    time.sleep(0.025)\n",
            "KeyboardInterrupt\n",
            "\n",
            "During handling of the above exception, another exception occurred:\n",
            "\n",
            "Traceback (most recent call last):\n",
            "  File \"/usr/local/lib/python3.6/dist-packages/IPython/core/interactiveshell.py\", line 1823, in showtraceback\n",
            "    stb = value._render_traceback_()\n",
            "AttributeError: 'KeyboardInterrupt' object has no attribute '_render_traceback_'\n",
            "\n",
            "During handling of the above exception, another exception occurred:\n",
            "\n",
            "Traceback (most recent call last):\n",
            "  File \"/usr/local/lib/python3.6/dist-packages/IPython/core/ultratb.py\", line 1132, in get_records\n",
            "    return _fixed_getinnerframes(etb, number_of_lines_of_context, tb_offset)\n",
            "  File \"/usr/local/lib/python3.6/dist-packages/IPython/core/ultratb.py\", line 313, in wrapped\n",
            "    return f(*args, **kwargs)\n",
            "  File \"/usr/local/lib/python3.6/dist-packages/IPython/core/ultratb.py\", line 358, in _fixed_getinnerframes\n",
            "    records = fix_frame_records_filenames(inspect.getinnerframes(etb, context))\n",
            "  File \"/usr/lib/python3.6/inspect.py\", line 1490, in getinnerframes\n",
            "    frameinfo = (tb.tb_frame,) + getframeinfo(tb, context)\n",
            "  File \"/usr/lib/python3.6/inspect.py\", line 1448, in getframeinfo\n",
            "    filename = getsourcefile(frame) or getfile(frame)\n",
            "  File \"/usr/lib/python3.6/inspect.py\", line 696, in getsourcefile\n",
            "    if getattr(getmodule(object, filename), '__loader__', None) is not None:\n",
            "  File \"/usr/lib/python3.6/inspect.py\", line 739, in getmodule\n",
            "    f = getabsfile(module)\n",
            "  File \"/usr/lib/python3.6/inspect.py\", line 708, in getabsfile\n",
            "    _filename = getsourcefile(object) or getfile(object)\n",
            "  File \"/usr/lib/python3.6/inspect.py\", line 693, in getsourcefile\n",
            "    if os.path.exists(filename):\n",
            "  File \"/usr/lib/python3.6/genericpath.py\", line 19, in exists\n",
            "    os.stat(path)\n",
            "KeyboardInterrupt\n"
          ],
          "name": "stdout"
        },
        {
          "output_type": "error",
          "ename": "KeyboardInterrupt",
          "evalue": "ignored",
          "traceback": [
            "\u001b[0;31m---------------------------------------------------------------------------\u001b[0m"
          ]
        }
      ]
    },
    {
      "cell_type": "markdown",
      "metadata": {
        "id": "wPQCEfpkVqba"
      },
      "source": [
        "# Mynet"
      ]
    },
    {
      "cell_type": "code",
      "metadata": {
        "id": "tWbq-wkF1bx5"
      },
      "source": [
        "!rm -r mynet/ \n",
        "!rm -r Results\n",
        "!rm -r \"/content/gdrive/My Drive/exp/mynet\"\n",
        "!python3 project_1/RGB_projectNet_flowSup.py --stage 2 --supervision True --train_data_dir ./train_processed --val_data_dir ./test_processed --stage1dict \"/content/gdrive/My Drive/exp/ConvLSTMAttention16_S/gtea61/rgb/stage1/model_rgb_state_dict.pth\" --out_dir mynet  --seq_len 16 --train_batch_size 32 --num_epochs 100 --lr 1e-4 --lr_suphead 1e-4 --lr_resnet 4e-4 --alpha 0.001 --step_size 30 80  --decay_rate 0.2\n",
        "!cp -r \"./mynet\" \"/content/gdrive/My Drive/exp/mynet\""
      ],
      "execution_count": null,
      "outputs": []
    },
    {
      "cell_type": "code",
      "metadata": {
        "id": "siamFs9NvbEe"
      },
      "source": [
        "!rm -r mynet1/ \n",
        "!rm -r Results\n",
        "#!rm -r \"/content/gdrive/My Drive/exp/mynet\"\n",
        "!python3 project_1/RGB_projectNet_flowSup.py --stage 2 --supervision True --train_data_dir ./train_processed --val_data_dir ./test_processed --stage1dict \"/content/gdrive/My Drive/exp/ConvLSTMAttention16_S/gtea61/rgb/stage1/model_rgb_state_dict.pth\" --out_dir mynet1  --seq_len 16 --train_batch_size 32 --num_epochs 100 --lr 1e-4 --lr_suphead 1e-4 --lr_resnet 4e-4 --alpha 1e-3 --step_size 30 80  --decay_rate 0.2\n",
        "!cp -r \"./mynet1\" \"/content/gdrive/My Drive/exp/mynet1\""
      ],
      "execution_count": null,
      "outputs": []
    },
    {
      "cell_type": "markdown",
      "metadata": {
        "id": "1EtB3fYf5sx0"
      },
      "source": [
        "# MynetIDT"
      ]
    },
    {
      "cell_type": "code",
      "metadata": {
        "id": "MMLsqf6C5uYB"
      },
      "source": [
        "n=0\n",
        "alpha=0.5\n",
        "lr_resnet=2e-4\n",
        "lr_super=5e-5\n",
        "outdir=\"MynetIDT\"\n",
        "path=\"/content/gdrive/My Drive/exp/MyNetIDT/L\"+str(n)\n",
        "save_drive=\"\\\"\"+path+\"\\\"\"\n",
        "!rm -r \"./MynetIDT/rgb/stage2\"\n",
        "!python3 project_1/RGB_projectNet.py --stage 2 --model MyNetIDT --supervision True --trainDatasetDir ./train_processed --valDatasetDir ./test_processed --outDir $outdir --stage1Dict \"/content/gdrive/My Drive/exp/ConvLSTMAttention16_S_R/gtea61/rgb/stage1/model_rgb_state_dict.pth\" --seqLen 16 --trainBatchSize 32 --numEpochs 100 --lr 2e-4 --lr_suphead $lr_super --lr_resnet $lr_resnet --alpha $alpha --stepSize 45 90  --decayRate 0.1  --lossSupervision regression\n",
        "!mkdir save_drive \n",
        "!cp -r $outdir $save_drive\n",
        "with open(path+\"parameters.txt\",\"w\") as f:\n",
        "    f.write(\"alpha \"+str(alpha)+\"lr_resnet\"+\": \"+str(lr_resnet)+\" lr_super: \"+str(lr_super)+\"\\n\")"
      ],
      "execution_count": null,
      "outputs": []
    },
    {
      "cell_type": "code",
      "metadata": {
        "id": "_e8v18YQ5_af"
      },
      "source": [
        "n=1\n",
        "alpha=0.5\n",
        "lr_resnet=2e-4\n",
        "lr_super=5e-5\n",
        "outdir=\"MynetIDT\"\n",
        "path=\"/content/gdrive/My Drive/exp/MyNetIDT/L\"+str(n)\n",
        "save_drive=\"\\\"\"+path+\"\\\"\"\n",
        "!rm -r \"./MynetIDT/rgb/stage2\"\n",
        "!python3 project_1/RGB_projectNet.py --stage 2 --model MyNetIDT --supervision True --trainDatasetDir ./train_processed --valDatasetDir ./test_processed --outDir $outdir --stage1Dict \"/content/gdrive/My Drive/exp/ConvLSTMAttention16_S_R/gtea61/rgb/stage1/model_rgb_state_dict.pth\" --seqLen 16 --trainBatchSize 32 --numEpochs 100 --lr 2e-4 --lr_suphead $lr_super --lr_resnet $lr_resnet --alpha $alpha --stepSize 45 90  --decayRate 0.1  --lossSupervision regression\n",
        "!mkdir save_drive \n",
        "!cp -r $outdir $save_drive\n",
        "with open(path+\"parameters.txt\",\"w\") as f:\n",
        "    f.write(\"alpha \"+str(alpha)+\"lr_resnet\"+\": \"+str(lr_resnet)+\" lr_super: \"+str(lr_super)+\"\\n\")"
      ],
      "execution_count": null,
      "outputs": []
    },
    {
      "cell_type": "code",
      "metadata": {
        "id": "JfoWwTBbtqoZ"
      },
      "source": [
        "n=3\n",
        "alpha=0.5\n",
        "lr_resnet=2e-4\n",
        "lr_super=5e-5\n",
        "outdir=\"MynetIDT\"\n",
        "path=\"/content/gdrive/My Drive/exp/MyNetIDT/L\"+str(n)\n",
        "save_drive=\"\\\"\"+path+\"\\\"\"\n",
        "!rm -r \"./MynetIDT/rgb/stage2\"\n",
        "!python3 project_1/RGB_projectNet.py --stage 2 --model MyNetIDT --supervision True --trainDatasetDir ./train_processed --valDatasetDir ./test_processed --outDir $outdir --stage1Dict \"/content/gdrive/My Drive/exp/ConvLSTMAttention16_S_R/gtea61/rgb/stage1/model_rgb_state_dict.pth\" --seqLen 16 --trainBatchSize 32 --numEpochs 100 --lr 2e-4 --lr_suphead $lr_super --lr_resnet $lr_resnet --alpha $alpha --stepSize 45 90  --decayRate 0.1  --lossSupervision regression\n",
        "!mkdir save_drive \n",
        "!cp -r $outdir $save_drive\n",
        "with open(path+\"parameters.txt\",\"w\") as f:\n",
        "    f.write(\"alpha \"+str(alpha)+\"lr_resnet\"+\": \"+str(lr_resnet)+\" lr_super: \"+str(lr_super)+\"\\n\")"
      ],
      "execution_count": null,
      "outputs": []
    },
    {
      "cell_type": "markdown",
      "metadata": {
        "id": "QiRwOvWIKqrP"
      },
      "source": [
        "# flow net"
      ]
    },
    {
      "cell_type": "code",
      "metadata": {
        "id": "_z8bF1F7wdPK",
        "colab": {
          "base_uri": "https://localhost:8080/",
          "height": 478
        },
        "outputId": "78dc0137-cc38-4ca8-bc91-c352c31e2ac1"
      },
      "source": [
        "!wget --load-cookies /tmp/cookies.txt \"https://docs.google.com/uc?export=download&confirm=$(wget --quiet --save-cookies /tmp/cookies.txt --keep-session-cookies --no-check-certificate 'https://docs.google.com/uc?export=download&id=1_y8Y3PnCXsngmZVMqZbg-AfJyIdOeQ2_' -O- | sed -rn 's/.*confirm=([0-9A-Za-z_]+).*/\\1\\n/p')&id=1_y8Y3PnCXsngmZVMqZbg-AfJyIdOeQ2_\" -O gtea_61.tar.gz && rm -rf /tmp/cookies.txt"
      ],
      "execution_count": null,
      "outputs": [
        {
          "output_type": "stream",
          "text": [
            "--2020-06-30 16:36:04--  https://docs.google.com/uc?export=download&confirm=ONVg&id=1_y8Y3PnCXsngmZVMqZbg-AfJyIdOeQ2_\n",
            "Resolving docs.google.com (docs.google.com)... 64.233.189.102, 64.233.189.138, 64.233.189.139, ...\n",
            "Connecting to docs.google.com (docs.google.com)|64.233.189.102|:443... connected.\n",
            "HTTP request sent, awaiting response... 302 Moved Temporarily\n",
            "Location: https://doc-0o-6g-docs.googleusercontent.com/docs/securesc/f4m95n3l6obsfre7o1l28vuides10j36/olib7o4t5lt6qqegh5o17gcqp4qnqlqj/1593534900000/16968378705812318006/08917423593664988040Z/1_y8Y3PnCXsngmZVMqZbg-AfJyIdOeQ2_?e=download [following]\n",
            "--2020-06-30 16:36:04--  https://doc-0o-6g-docs.googleusercontent.com/docs/securesc/f4m95n3l6obsfre7o1l28vuides10j36/olib7o4t5lt6qqegh5o17gcqp4qnqlqj/1593534900000/16968378705812318006/08917423593664988040Z/1_y8Y3PnCXsngmZVMqZbg-AfJyIdOeQ2_?e=download\n",
            "Resolving doc-0o-6g-docs.googleusercontent.com (doc-0o-6g-docs.googleusercontent.com)... 64.233.189.132, 2404:6800:4008:c07::84\n",
            "Connecting to doc-0o-6g-docs.googleusercontent.com (doc-0o-6g-docs.googleusercontent.com)|64.233.189.132|:443... connected.\n",
            "HTTP request sent, awaiting response... 302 Found\n",
            "Location: https://docs.google.com/nonceSigner?nonce=94mqkfh0qaegg&continue=https://doc-0o-6g-docs.googleusercontent.com/docs/securesc/f4m95n3l6obsfre7o1l28vuides10j36/olib7o4t5lt6qqegh5o17gcqp4qnqlqj/1593534900000/16968378705812318006/08917423593664988040Z/1_y8Y3PnCXsngmZVMqZbg-AfJyIdOeQ2_?e%3Ddownload&hash=vt31l0f9kv5juo23p7a4rtek1ucfef7l [following]\n",
            "--2020-06-30 16:36:04--  https://docs.google.com/nonceSigner?nonce=94mqkfh0qaegg&continue=https://doc-0o-6g-docs.googleusercontent.com/docs/securesc/f4m95n3l6obsfre7o1l28vuides10j36/olib7o4t5lt6qqegh5o17gcqp4qnqlqj/1593534900000/16968378705812318006/08917423593664988040Z/1_y8Y3PnCXsngmZVMqZbg-AfJyIdOeQ2_?e%3Ddownload&hash=vt31l0f9kv5juo23p7a4rtek1ucfef7l\n",
            "Connecting to docs.google.com (docs.google.com)|64.233.189.102|:443... connected.\n",
            "HTTP request sent, awaiting response... 302 Found\n",
            "Location: https://doc-0o-6g-docs.googleusercontent.com/docs/securesc/f4m95n3l6obsfre7o1l28vuides10j36/olib7o4t5lt6qqegh5o17gcqp4qnqlqj/1593534900000/16968378705812318006/08917423593664988040Z/1_y8Y3PnCXsngmZVMqZbg-AfJyIdOeQ2_?e=download&nonce=94mqkfh0qaegg&user=08917423593664988040Z&hash=4pm2jh7pcponf97k3lo81ea5eg27e3mi [following]\n",
            "--2020-06-30 16:36:05--  https://doc-0o-6g-docs.googleusercontent.com/docs/securesc/f4m95n3l6obsfre7o1l28vuides10j36/olib7o4t5lt6qqegh5o17gcqp4qnqlqj/1593534900000/16968378705812318006/08917423593664988040Z/1_y8Y3PnCXsngmZVMqZbg-AfJyIdOeQ2_?e=download&nonce=94mqkfh0qaegg&user=08917423593664988040Z&hash=4pm2jh7pcponf97k3lo81ea5eg27e3mi\n",
            "Connecting to doc-0o-6g-docs.googleusercontent.com (doc-0o-6g-docs.googleusercontent.com)|64.233.189.132|:443... connected.\n",
            "HTTP request sent, awaiting response... 200 OK\n",
            "Length: unspecified [application/gzip]\n",
            "Saving to: ‘gtea_61.tar.gz’\n",
            "\n",
            "gtea_61.tar.gz          [         <=>        ]   1.96G  70.1MB/s    in 29s     \n",
            "\n",
            "2020-06-30 16:36:34 (69.8 MB/s) - ‘gtea_61.tar.gz’ saved [2105925586]\n",
            "\n"
          ],
          "name": "stdout"
        }
      ]
    },
    {
      "cell_type": "code",
      "metadata": {
        "id": "WgVRRFKpw1YD"
      },
      "source": [
        "import os \n",
        "if not os.path.isdir('./gtea_61'):\n",
        "  !tar -xf gtea_61.tar.gz\n",
        "if not os.path.isdir('./train'):\n",
        "  for i in [1,3,4]:\n",
        "    dir_s=f\"./gtea_61/frames/S{i}\"\n",
        "    dir_dest=f\"./train/frames/\"\n",
        "    !mkdir -p $dir_dest\n",
        "    !cp -r $dir_s -r $dir_dest\n",
        "if not os.path.isdir('./test'):\n",
        "  for i in [2]:\n",
        "    dir_s=f\"./gtea_61/frames/S{i}\"\n",
        "    dir_dest=f\"./test/frames/\"\n",
        "    !mkdir -p $dir_dest\n",
        "    !cp -r $dir_s $dir_dest\n",
        "\n",
        "if not os.path.isdir('./gtea_61'):\n",
        "  !tar -xf gtea_61.tar.gz\n",
        "if not os.path.isdir('./train/flow_y'):\n",
        "  for i in [1,3,4]:\n",
        "    dir_s=f\"./gtea_61/flow_x/S{i}\"\n",
        "    dir_dest=f\"./train/flow_x/\"\n",
        "    !mkdir -p $dir_dest\n",
        "    !cp -r $dir_s -r $dir_dest\n",
        "  for i in [1,3,4]:\n",
        "    dir_s=f\"./gtea_61/flow_y/S{i}\"\n",
        "    dir_dest=f\"./train/flow_y/\"\n",
        "    !mkdir -p $dir_dest\n",
        "    !cp -r $dir_s -r $dir_dest\n",
        "if not os.path.isdir('./test/flow_x'):\n",
        "  for i in [2]:\n",
        "    dir_s=f\"./gtea_61/flow_x/S{i}\"\n",
        "    dir_dest=f\"./test/flow_x/\"\n",
        "    !mkdir -p $dir_dest\n",
        "    !cp -r $dir_s -r $dir_dest\n",
        "  for i in [2]:\n",
        "    dir_s=f\"./gtea_61/flow_y/S{i}\"\n",
        "    dir_dest=f\"./test/flow_y/\"\n",
        "    !mkdir -p $dir_dest\n",
        "    !cp -r $dir_s -r $dir_dest\n"
      ],
      "execution_count": null,
      "outputs": []
    },
    {
      "cell_type": "code",
      "metadata": {
        "id": "SCOmzTq5w7vI"
      },
      "source": [
        "!rm -r \"./experiments_flow_7\"\n",
        "!python project_1/main-run-flow.py --dataset gtea61 --trainDatasetDir ./train --valDatasetDir ./test --outDir experiments_flow_7 --stackSize 5 --trainBatchSize 32 --numEpochs 750 --lr 1e-2 --stepSize 150 300 500 --decayRate 0.5\n",
        "!rm -r \"/content/gdrive/My Drive/exp/experiments_flow_7\"\n",
        "!cp -r \"./experiments_flow_7\" \"/content/gdrive/My Drive/exp/experiments_flow_7\"\n",
        "\n"
      ],
      "execution_count": null,
      "outputs": []
    },
    {
      "cell_type": "code",
      "metadata": {
        "id": "dC5QFtXEI4Zc"
      },
      "source": [
        "!rm -r \"./experiments_flow_16\"\n",
        "!python project_1/main-run-flow.py --dataset gtea61 --trainDatasetDir ./train --valDatasetDir ./test --outDir experiments_flow_16 --stackSize 5 --trainBatchSize 32 --numEpochs 750 --lr 1e-2 --stepSize 150 300 500 --decayRate 0.5\n",
        "!rm -r \"/content/gdrive/My Drive/exp/experiments_flow_16\"\n",
        "!cp -r \"./experiments_flow_16\" \"/content/gdrive/My Drive/exp/experiments_flow_16\""
      ],
      "execution_count": null,
      "outputs": []
    },
    {
      "cell_type": "code",
      "metadata": {
        "id": "Jp8cjj6BFmNt"
      },
      "source": [
        "!python project_1/eval-run-flow.py --datasetDir ./test --modelStateDict \"/content/gdrive/My Drive/exp/experiments_flow_7/gtea61/flow/model_flow_state_dict.pth\""
      ],
      "execution_count": null,
      "outputs": []
    },
    {
      "cell_type": "code",
      "metadata": {
        "id": "-aHkd4EI9JDf"
      },
      "source": [
        "!python project_1/eval-run-flow.py --datasetDir ./test --modelStateDict \"/content/experiments_flow_16/gtea61/flow/model_flow_state_dict.pth\""
      ],
      "execution_count": null,
      "outputs": []
    },
    {
      "cell_type": "code",
      "metadata": {
        "id": "I9n8MugSHUQ8"
      },
      "source": [
        "!python project_1/eval-run-twoStream-joint.py --datasetDir ./test --modelStateDict \"/content/gdrive/My Drive/exp/Two-stream_joint_16/gtea61/twoStream/model_twoStream_state_dict.pth\" --seqLen 16"
      ],
      "execution_count": null,
      "outputs": []
    },
    {
      "cell_type": "code",
      "metadata": {
        "id": "zJQOw_hFHFwM"
      },
      "source": [
        "!python project_1/eval-run-twoStream-joint.py --datasetDir ./test --modelStateDict \"/content/gdrive/My Drive/exp/Two-stream_joint/gtea61/twoStream/model_twoStream_state_dict.pth\" --seqLen 7"
      ],
      "execution_count": null,
      "outputs": []
    },
    {
      "cell_type": "markdown",
      "metadata": {
        "id": "E9B2-qK6-Kx5"
      },
      "source": [
        "# Two stream"
      ]
    },
    {
      "cell_type": "code",
      "metadata": {
        "id": "jIVEhEkC99dB"
      },
      "source": [
        "!rm -r \"./Two-stream_joint\"\n",
        "!python project_1/main-run-twoStream.py --dataset gtea61 --flowModel \"/content/gdrive/My Drive/exp/experiments_flow_7/gtea61/flow/model_flow_state_dict.pth\" --rgbModel \"/content/gdrive/My Drive/exp/ConvLSTMAttention7/gtea61/rgb/stage2/model_rgb_state_dict.pth\" --trainDatasetDir ./train --valDatasetDir ./test --outDir Two-stream_joint --seqLen 7 --stackSize 5 --trainBatchSize 32 --numEpochs 250 --lr 1e-2 --stepSize 1 --decayRate 0.99 --memSize 512\n",
        "!rm -r \"/content/gdrive/My Drive/exp/Two-stream_joint\"\n",
        "!cp -r \"./Two-stream_joint\" \"/content/gdrive/My Drive/exp/Two-stream_joint\""
      ],
      "execution_count": null,
      "outputs": []
    },
    {
      "cell_type": "code",
      "metadata": {
        "id": "EqxJlr0REzs6"
      },
      "source": [
        "!rm -r \"./Two-stream_joint_16\"\n",
        "!python project_1/main-run-twoStream.py --dataset gtea61 --flowModel \"/content/gdrive/My Drive/exp/experiments_flow_7/gtea61/flow/model_flow_state_dict.pth\" --rgbModel \"/content/gdrive/My Drive/exp/ConvLSTMAttention16/rgb/stage2/model_rgb_state_dict.pth\" --trainDatasetDir ./train --valDatasetDir ./test --outDir Two-stream_joint_16 --seqLen 16 --stackSize 5 --trainBatchSize 32 --numEpochs 250 --lr 1e-2 --stepSize 1 --decayRate 0.99 --memSize 512\n",
        "!rm -r \"/content/gdrive/My Drive/exp/Two-stream_joint_16\"\n",
        "!cp -r \"./Two-stream_joint_16\" \"/content/gdrive/My Drive/exp/Two-stream_joint_16\""
      ],
      "execution_count": null,
      "outputs": []
    },
    {
      "cell_type": "markdown",
      "metadata": {
        "id": "uNJ440qyfbWx"
      },
      "source": [
        "# ConvLSTM\n"
      ]
    },
    {
      "cell_type": "code",
      "metadata": {
        "id": "mEYozmBM1CcQ"
      },
      "source": [
        "#!rm -r ConvLSTM7/\n",
        "!python3 project_1/RGB_projectNet.py --stage 1 --model ConvLSTM --supervision False --trainDatasetDir ./train_processed --valDatasetDir ./test_processed --outDir ConvLSTM7 --seqLen 7 --trainBatchSize 32 --numEpochs 300 --lr 1e-3 --stepSize 25 75 150 --decayRate 0.1 \n",
        "!python3 project_1/RGB_projectNet.py --stage 2 --model ConvLSTM --supervision False --trainDatasetDir ./train_processed --valDatasetDir ./test_processed --outDir ConvLSTM7 --stage1Dict ./ConvLSTM7/gtea61/rgb/stage1/model_rgb_state_dict.pth --seqLen 7 --trainBatchSize 32 --numEpochs 150 --lr 1e-4 --stepSize 25 75  --decayRate 0.1 \n",
        "!rm -r \"/content/gdrive/My Drive/exp/ConvLSTM7\"\n",
        "!cp -r \"./ConvLSTM7\" \"/content/gdrive/My Drive/exp/ConvLSTM7\""
      ],
      "execution_count": null,
      "outputs": []
    },
    {
      "cell_type": "code",
      "metadata": {
        "id": "iCOr_X89glUd"
      },
      "source": [
        "#!rm -r ConvLSTM16/\n",
        "!python3 project_1/RGB_projectNet.py --stage 1 --model ConvLSTM --supervision False --trainDatasetDir ./train_processed --valDatasetDir ./test_processed --outDir ConvLSTM16 --seqLen 16 --trainBatchSize 32 --numEpochs 200 --lr 1e-3 --stepSize 25 75 150 --decayRate 0.1 \n",
        "!python3 project_1/RGB_projectNet.py --stage 2 --model ConvLSTM --supervision False --trainDatasetDir ./train_processed --valDatasetDir ./test_processed --outDir ConvLSTM16 --stage1Dict ./ConvLSTM16/gtea61/rgb/stage1/model_rgb_state_dict.pth --seqLen 16 --trainBatchSize 32 --numEpochs 150 --lr 1e-4 --stepSize 25 75  --decayRate 0.1 \n",
        "!rm -r \"/content/gdrive/My Drive/exp/ConvLSTM16\"\n",
        "!cp -r \"./ConvLSTM16\" \"/content/gdrive/My Drive/exp/ConvLSTM16\""
      ],
      "execution_count": null,
      "outputs": []
    },
    {
      "cell_type": "markdown",
      "metadata": {
        "id": "fUmMF7k_ynR-"
      },
      "source": [
        "# ConvLSTMAttention\n"
      ]
    },
    {
      "cell_type": "code",
      "metadata": {
        "id": "NYgqnhOhy5U-"
      },
      "source": [
        "#!rm -r ConvLSTMAttention7/\n",
        "!python3 project_1/RGB_projectNet.py --stage 1 --model ConvLSTMAttention --supervision False --trainDatasetDir ./train_processed --valDatasetDir ./test_processed --outDir ConvLSTMAttention7 --seqLen 7 --trainBatchSize 32 --numEpochs 300 --lr 1e-3 --stepSize 25 75 150 --decayRate 0.1 \n",
        "!python3 project_1/RGB_projectNet.py --stage 2 --model ConvLSTMAttention --supervision False --trainDatasetDir ./train_processed --valDatasetDir ./test_processed --outDir ConvLSTMAttention7 --stage1Dict ./ConvLSTMAttention7/gtea61/rgb/stage1/model_rgb_state_dict.pth --seqLen 7 --trainBatchSize 32 --numEpochs 150 --lr 1e-4 --stepSize 25 75  --decayRate 0.1 \n",
        "!rm -r \"/content/gdrive/My Drive/exp/ConvLSTMAttention7\"\n",
        "!cp -r \"./ConvLSTMAttention7\" \"/content/gdrive/My Drive/exp/ConvLSTMAttention7\""
      ],
      "execution_count": null,
      "outputs": []
    },
    {
      "cell_type": "code",
      "metadata": {
        "id": "HYN-YM3jzWG5"
      },
      "source": [
        "#!rm -r ConvLSTMAttention16/\n",
        "!python3 project_1/RGB_projectNet.py --stage 1 --model ConvLSTMAttention --supervision False --trainDatasetDir ./train_processed --valDatasetDir ./test_processed --outDir ConvLSTMAttention16 --seqLen 16 --trainBatchSize 32 --numEpochs 200 --lr 1e-3 --stepSize 25 75 150 --decayRate 0.1 \n",
        "!python3 project_1/RGB_projectNet.py --stage 2 --model ConvLSTMAttention --supervision False --trainDatasetDir ./train_processed --valDatasetDir ./test_processed --outDir ConvLSTMAttention16 --stage1Dict ./ConvLSTMAttention16/rgb/stage1/model_rgb_state_dict.pth --seqLen 16 --trainBatchSize 32 --numEpochs 150 --lr 1e-4 --stepSize 25 75  --decayRate 0.1 \n",
        "!rm -r \"/content/gdrive/My Drive/exp/ConvLSTMAttention16\"\n",
        "!cp -r \"./ConvLSTMAttention16\" \"/content/gdrive/My Drive/exp/ConvLSTMAttention16\""
      ],
      "execution_count": null,
      "outputs": []
    },
    {
      "cell_type": "code",
      "metadata": {
        "id": "_T_jDIz6IvDP"
      },
      "source": [
        "#!rm -r ./ConvLSTMAttention16_2/rgb/stage2\n",
        "!python3 project_1/RGB_projectNet.py --stage 2 --model ConvLSTMAttention --supervision False --trainDatasetDir ./train_processed --valDatasetDir ./test_processed --outDir ConvLSTMAttention16_2 --stage1Dict \"/content/gdrive/My Drive/exp/ConvLSTMAttention16/rgb/stage1/model_rgb_state_dict.pth\" --seqLen 16 --trainBatchSize 32 --numEpochs 150 --lr 1e-4 --stepSize 25 75  --decayRate 0.1 \n",
        "!rm -r \"/content/gdrive/My Drive/exp/ConvLSTMAttention16_2\"\n",
        "!cp -r \"./ConvLSTMAttention16_2\" \"/content/gdrive/My Drive/exp/ConvLSTMAttention16_2\""
      ],
      "execution_count": null,
      "outputs": []
    },
    {
      "cell_type": "code",
      "metadata": {
        "id": "-VUe_sJ2b2Mp"
      },
      "source": [
        "#!rm -r ./ConvLSTMAttention16_3/rgb/stage2\n",
        "!python3 project_1/RGB_projectNet.py --stage 2 --model ConvLSTMAttention --supervision False --trainDatasetDir ./train_processed --valDatasetDir ./test_processed --outDir ConvLSTMAttention16_3 --stage1Dict \"/content/gdrive/My Drive/exp/ConvLSTMAttention16/rgb/stage1/model_rgb_state_dict.pth\" --seqLen 16 --trainBatchSize 32 --numEpochs 150 --lr 1e-4 --stepSize 25 75  --decayRate 0.1 \n",
        "!rm -r \"/content/gdrive/My Drive/exp/ConvLSTMAttention16_3\"\n",
        "!cp -r \"./ConvLSTMAttention16_3\" \"/content/gdrive/My Drive/exp/ConvLSTMAttention16_3\""
      ],
      "execution_count": null,
      "outputs": []
    },
    {
      "cell_type": "code",
      "metadata": {
        "id": "4xD3g3Q7VuJZ",
        "colab": {
          "base_uri": "https://localhost:8080/",
          "height": 293
        },
        "outputId": "f6b131f1-af4c-4637-9d2e-3b74779df446"
      },
      "source": [
        "#!rm -r ./ConvLSTMAttention16_3/rgb/stage2\n",
        "# !python3 project_1/RGB_projectNet.py --stage 2 --model ConvLSTMAttention --supervision False --trainDatasetDir ./train_processed --valDatasetDir ./test_processed --outDir ConvLSTMAttention16_3 --stage1Dict ./ConvLSTMAttention16/rgb/stage1/model_rgb_state_dict.pth --seqLen 16 --trainBatchSize 32 --numEpochs 150 --lr 1e-4 --stepSize 25 75  --decayRate 0.1 \n",
        "# !rm -r \"/content/gdrive/My Drive/exp/ConvLSTMAttention16_3\"\n",
        "# !cp -r \"./ConvLSTMAttention16_3\" \"/content/gdrive/My Drive/exp/ConvLSTMAttention16_3\""
      ],
      "execution_count": null,
      "outputs": [
        {
          "output_type": "stream",
          "text": [
            "Traceback (most recent call last):\n",
            "  File \"project_1/RGB_projectNet.py\", line 315, in <module>\n",
            "    __main__()\n",
            "  File \"project_1/RGB_projectNet.py\", line 313, in __main__\n",
            "    valBatchSize, numEpochs, lr1,lr_suphead, lr_resnet, alpha,decayRate, stepSize,lossSupervision, memSize)\n",
            "  File \"project_1/RGB_projectNet.py\", line 84, in main_run\n",
            "    model.load_state_dict(torch.load(stage1_dict))\n",
            "  File \"/usr/local/lib/python3.6/dist-packages/torch/serialization.py\", line 584, in load\n",
            "    with _open_file_like(f, 'rb') as opened_file:\n",
            "  File \"/usr/local/lib/python3.6/dist-packages/torch/serialization.py\", line 234, in _open_file_like\n",
            "    return _open_file(name_or_buffer, mode)\n",
            "  File \"/usr/local/lib/python3.6/dist-packages/torch/serialization.py\", line 215, in __init__\n",
            "    super(_open_file, self).__init__(open(name, mode))\n",
            "FileNotFoundError: [Errno 2] No such file or directory: './ConvLSTMAttention16/rgb/stage1/model_rgb_state_dict.pth'\n",
            "rm: cannot remove '/content/gdrive/My Drive/exp/ConvLSTMAttention16_3': No such file or directory\n"
          ],
          "name": "stdout"
        }
      ]
    },
    {
      "cell_type": "markdown",
      "metadata": {
        "id": "mCjOJal9XLU3"
      },
      "source": [
        "# ConvLSTMAttention With supervision"
      ]
    },
    {
      "cell_type": "code",
      "metadata": {
        "id": "56FF_CSsb-n1"
      },
      "source": [
        "!python3 project_1/RGB_projectNet.py --stage 1 --model ConvLSTMAttention --supervision True --trainDatasetDir ./train_processed --valDatasetDir ./test_processed --outDir ConvLSTMAttention7_S --seqLen 7 --trainBatchSize 32 --numEpochs 200 --lr 1e-3 --stepSize 25 75 150 --decayRate 0.1 \n",
        "!python3 project_1/RGB_projectNet.py --stage 2 --model ConvLSTMAttention --supervision True --trainDatasetDir ./train_processed --valDatasetDir ./test_processed --outDir ConvLSTMAttention7_S --stage1Dict ./ConvLSTMAttention7_S/gtea61/rgb/stage1/model_rgb_state_dict.pth --seqLen 7 --trainBatchSize 32 --numEpochs 150 --lr 1e-4 --stepSize 25 75  --decayRate 0.1 \n",
        "!rm -r \"/content/gdrive/My Drive/exp/ConvLSTMAttention7_S\"\n",
        "!cp -r \"./ConvLSTMAttention7_S\" \"/content/gdrive/My Drive/exp/ConvLSTMAttention7_S\""
      ],
      "execution_count": null,
      "outputs": []
    },
    {
      "cell_type": "markdown",
      "metadata": {
        "id": "vXGc_hUPT64b"
      },
      "source": [
        "##classification"
      ]
    },
    {
      "cell_type": "code",
      "metadata": {
        "id": "7uhO5emxhGpF"
      },
      "source": [
        "!python3 project_1/RGB_projectNet.py --stage 1 --model ConvLSTMAttention --supervision True --trainDatasetDir ./train_processed --valDatasetDir ./test_processed --outDir ConvLSTMAttention16_S --seqLen 16 --trainBatchSize 32 --numEpochs 200 --lr 1e-3 --stepSize 25 75 150 --decayRate 0.1 \n",
        "!python3 project_1/RGB_projectNet.py --stage 2 --model ConvLSTMAttention --supervision True --trainDatasetDir ./train_processed --valDatasetDir ./test_processed --outDir ConvLSTMAttention16_S --stage1Dict ./ConvLSTMAttention16_S/gtea61/rgb/stage1/model_rgb_state_dict.pth --seqLen 16 --trainBatchSize 32 --numEpochs 150 --lr 1e-4 --stepSize 25 75  --decayRate 0.1 \n",
        "!rm -r \"/content/gdrive/My Drive/exp/ConvLSTMAttention16_S\"\n",
        "!cp -r \"./ConvLSTMAttention16_S\" \"/content/gdrive/My Drive/exp/ConvLSTMAttention16_S\""
      ],
      "execution_count": null,
      "outputs": []
    },
    {
      "cell_type": "code",
      "metadata": {
        "id": "hE2UfhenURi-"
      },
      "source": [
        "#step size modified 25 75->45 95 >45 90\n",
        "#lr 1e-4-> 2e-4\n",
        "lr_resnet=4e-4\n",
        "lr_super=1e-4\n",
        "alpha=0.1\n",
        "!python3 project_1/RGB_projectNet.py --stage 2 --model ConvLSTMAttention --supervision True --trainDatasetDir ./train_processed --valDatasetDir ./test_processed --outDir \"ConvLSTMAttention16_S_step45_90_lr2e-4_lrsuper1e-4_resnet4e-4_alpha0.1\" --stage1Dict \"/content/gdrive/My Drive/exp/ConvLSTMAttention16_S/gtea61/rgb/stage1/model_rgb_state_dict.pth\" --seqLen 16 --trainBatchSize 32 --numEpochs 100 --lr 2e-4  --lr_suphead $lr_super --lr_resnet $lr_resnet --alpha $alpha --stepSize 45 90  --decayRate 0.1 \n",
        "!rm -r \"/content/gdrive/My Drive/exp/ConvLSTMAttention16_S_step45_90_lr2e-4_lrsuper1e-4_resnet4e-4_alpha0.1\"\n",
        "!cp -r \"./ConvLSTMAttention16_S_step45_90_lr2e-4_lrsuper1e-4_resnet4e-4_alpha0.1\" \"/content/gdrive/My Drive/exp/ConvLSTMAttention16_S_step45_90_lr2e-4_lrsuper1e-4_resnet4e-4_alpha0.1\""
      ],
      "execution_count": null,
      "outputs": []
    },
    {
      "cell_type": "markdown",
      "metadata": {
        "id": "BEsHB5mCUIdX"
      },
      "source": [
        "##regression"
      ]
    },
    {
      "cell_type": "code",
      "metadata": {
        "id": "d4ssCugGaT0U"
      },
      "source": [
        "#regression\n",
        "#!rm -r ConvLSTMAttention16_S_R\n",
        "!python3 project_1/RGB_projectNet.py --stage 1 --model ConvLSTMAttention --supervision True --trainDatasetDir ./train_processed --valDatasetDir ./test_processed --outDir ConvLSTMAttention16_S_R --seqLen 16 --trainBatchSize 32 --numEpochs 200 --lr 1e-3 --stepSize 25 75 150 --decayRate 0.1 --lossSupervision regression\n",
        "!python3 project_1/RGB_projectNet.py --stage 2 --model ConvLSTMAttention --supervision True --trainDatasetDir ./train_processed --valDatasetDir ./test_processed --outDir ConvLSTMAttention16_S_R --stage1Dict ./ConvLSTMAttention16_S_R/gtea61/rgb/stage1/model_rgb_state_dict.pth --seqLen 16 --trainBatchSize 32 --numEpochs 150 --lr 1e-4 --stepSize 25 75  --decayRate 0.1 --lossSupervision regression\n",
        "!rm -r \"/content/gdrive/My Drive/exp/ConvLSTMAttention16_S_R\"\n",
        "!cp -r \"./ConvLSTMAttention16_S_R\" \"/content/gdrive/My Drive/exp/ConvLSTMAttention16_S_R\"\n"
      ],
      "execution_count": null,
      "outputs": []
    },
    {
      "cell_type": "code",
      "metadata": {
        "id": "WIhaPTIZuhK-"
      },
      "source": [
        "#step size modified 25 75->45 90\n",
        "alpha=0.5\n",
        "lr_resnet=4e-4\n",
        "lr_super=1e-4\n",
        "!python3 project_1/RGB_projectNet.py --stage 2 --model ConvLSTMAttention --supervision True --trainDatasetDir ./train_processed --valDatasetDir ./test_processed --outDir \"ConvLSTMAttention16_S_R_step45_90_lr2e-4_lrsuper5e-5_resnet4e-4_alpha0.1\" --stage1Dict \"/content/gdrive/My Drive/exp/ConvLSTMAttention16_S_R/gtea61/rgb/stage1/model_rgb_state_dict.pth\" --seqLen 16 --trainBatchSize 32 --numEpochs 100 --lr 2e-4 --lr_suphead $lr_super --lr_resnet $lr_resnet --alpha $alpha --stepSize 45 90  --decayRate 0.1  --lossSupervision regression\n",
        "!rm -r \"/content/gdrive/My Drive/exp/ConvLSTMAttention16_S_R_step45_90_lr2e-4_lrsuper5e-5_resnet4e-4_alpha0.1\"\n",
        "!cp -r \"./ConvLSTMAttention16_S_R_step45_90_lr2e-4_lrsuper5e-5_resnet4e-4_alpha0.1\" \"/content/gdrive/My Drive/exp/ConvLSTMAttention16_S_R_step45_90_lr2e-4_lrsuper5e-5_resnet4e-4_alpha0.1\""
      ],
      "execution_count": null,
      "outputs": []
    },
    {
      "cell_type": "code",
      "metadata": {
        "id": "_AjFpY-63mj-"
      },
      "source": [
        "alpha=0.5\n",
        "lr_resnet=4e-4\n",
        "lr_super=1e-4\n",
        "outdir= \"ConvLSTMAttention_final2\"\n",
        "!python3 project_1/RGB_projectNet.py --stage 2 --model ConvLSTMAttention --supervision True --trainDatasetDir ./train_processed --valDatasetDir ./test_processed --outDir $outdir --stage1Dict \"/content/gdrive/My Drive/exp/ConvLSTMAttention16_S_R/gtea61/rgb/stage1/model_rgb_state_dict.pth\" --seqLen 16 --trainBatchSize 32 --numEpochs 100 --lr 2e-4 --lr_suphead $lr_super --lr_resnet $lr_resnet --alpha $alpha --stepSize 45 90  --decayRate 0.1  --lossSupervision regression\n",
        "!cp -r \"./ConvLSTMAttention_final2\" \"/content/gdrive/My Drive/exp/ConvLSTMAttention_final/ConvLSTMAttention_final2\""
      ],
      "execution_count": null,
      "outputs": []
    },
    {
      "cell_type": "code",
      "metadata": {
        "id": "DgJzmSeA6IrM"
      },
      "source": [
        "alpha=0.5\n",
        "lr_resnet=4e-4\n",
        "lr_super=1e-4\n",
        "outdir= \"ConvLSTMAttention_final3\"\n",
        "!rm -r \"./ConvLSTMAttention_final3\"\n",
        "!python3 project_1/RGB_projectNet.py --stage 2 --model ConvLSTMAttention --supervision True --trainDatasetDir ./train_processed --valDatasetDir ./test_processed --outDir $outdir --stage1Dict \"/content/gdrive/My Drive/exp/ConvLSTMAttention16_S_R/gtea61/rgb/stage1/model_rgb_state_dict.pth\" --seqLen 16 --trainBatchSize 32 --numEpochs 100 --lr 2e-4 --lr_suphead $lr_super --lr_resnet $lr_resnet --alpha $alpha --stepSize 45 90  --decayRate 0.1  --lossSupervision regression\n",
        "!cp -r \"./ConvLSTMAttention_final3\" \"/content/gdrive/My Drive/exp/ConvLSTMAttention_final/ConvLSTMAttention_final3\""
      ],
      "execution_count": null,
      "outputs": []
    },
    {
      "cell_type": "code",
      "metadata": {
        "id": "PUxrzs0i6TOg"
      },
      "source": [
        "alpha=0.5\n",
        "lr_resnet=4e-4\n",
        "lr_super=1e-4\n",
        "outdir= \"ConvLSTMAttention_final4\"\n",
        "!rm -r \"./ConvLSTMAttention_final4\"\n",
        "!python3 project_1/RGB_projectNet.py --stage 2 --model ConvLSTMAttention --supervision True --trainDatasetDir ./train_processed --valDatasetDir ./test_processed --outDir $outdir --stage1Dict \"/content/gdrive/My Drive/exp/ConvLSTMAttention16_S_R/gtea61/rgb/stage1/model_rgb_state_dict.pth\" --seqLen 16 --trainBatchSize 32 --numEpochs 100 --lr 2e-4 --lr_suphead $lr_super --lr_resnet $lr_resnet --alpha $alpha --stepSize 45 90  --decayRate 0.1  --lossSupervision regression\n",
        "!cp -r \"./ConvLSTMAttention_final4\" \"/content/gdrive/My Drive/exp/ConvLSTMAttention_final/ConvLSTMAttention_final4\""
      ],
      "execution_count": null,
      "outputs": []
    },
    {
      "cell_type": "markdown",
      "metadata": {
        "id": "cvHe1gEnK4aO"
      },
      "source": [
        "# CAM"
      ]
    },
    {
      "cell_type": "code",
      "metadata": {
        "id": "L3dO7rSBrxz3",
        "colab": {
          "base_uri": "https://localhost:8080/",
          "height": 72
        },
        "outputId": "08df12de-1f51-4929-edd9-7a8805acda9c"
      },
      "source": [
        "import sys\n",
        "sys.path.append(\"./project_1\")\n",
        "from AttentionMapGenerator import * \n",
        "i=str(12).zfill(4)\n",
        "generateAttentionMap(\"/content/gdrive/My Drive/exp/ConvLSTMAttention7_S/gtea61/rgb/stage2/model_rgb_state_dict.pth\",f\"/content/train_processed/frames/S4/close_chocolate/1/rgb/rgb{i}.png\", f\"./close_chocolate{i}_s.jpg\")\n",
        "generateAttentionMap(\"/content/gdrive/My Drive/exp/ConvLSTMAttention7/gtea61/rgb/stage2/model_rgb_state_dict.pth\",f\"/content/train_processed/frames/S4/close_chocolate/1/rgb/rgb{i}.png\", f\"./close_chocolate{i}.jpg\")\n",
        "\n",
        "i=str(11).zfill(4)\n",
        "generateAttentionMap(\"/content/gdrive/My Drive/exp/ConvLSTMAttention7_S/gtea61/rgb/stage2/model_rgb_state_dict.pth\",f\"/content/train_processed/frames/S4/open_tea/1/rgb/rgb{i}.png\", f\"./open_tea{i}_s.jpg\")\n",
        "generateAttentionMap(\"/content/gdrive/My Drive/exp/ConvLSTMAttention7/gtea61/rgb/stage2/model_rgb_state_dict.pth\",f\"/content/train_processed/frames/S4/open_tea/1/rgb/rgb{i}.png\", f\"./open_tea{i}.jpg\")\n",
        "i=str(14).zfill(4)\n",
        "generateAttentionMap(\"/content/gdrive/My Drive/exp/ConvLSTMAttention7_S/gtea61/rgb/stage2/model_rgb_state_dict.pth\",f\"/content/train_processed/frames/S4/fold_bread/1/rgb/rgb{i}.png\", f\"./fold_bread{i}_s.jpg\")\n",
        "generateAttentionMap(\"/content/gdrive/My Drive/exp/ConvLSTMAttention7/gtea61/rgb/stage2/model_rgb_state_dict.pth\",f\"/content/train_processed/frames/S4/fold_bread/1/rgb/rgb{i}.png\", f\"./fold_bread{i}.jpg\")\n",
        "\n",
        "i=str(11).zfill(4)\n",
        "generateAttentionMap(\"/content/gdrive/My Drive/exp/ConvLSTMAttention7_S/gtea61/rgb/stage2/model_rgb_state_dict.pth\",f\"/content/train_processed/frames/S4/close_honey/1/rgb/rgb{i}.png\", f\"./close_honey{i}_s.jpg\")\n",
        "generateAttentionMap(\"/content/gdrive/My Drive/exp/ConvLSTMAttention7/gtea61/rgb/stage2/model_rgb_state_dict.pth\",f\"/content/train_processed/frames/S4/close_honey/1/rgb/rgb{i}.png\", f\"./close_honey{i}.jpg\")"
      ],
      "execution_count": null,
      "outputs": [
        {
          "output_type": "stream",
          "text": [
            "/usr/local/lib/python3.6/dist-packages/torchvision/transforms/transforms.py:211: UserWarning: The use of the transforms.Scale transform is deprecated, please use transforms.Resize instead.\n",
            "  \"please use transforms.Resize instead.\")\n"
          ],
          "name": "stderr"
        }
      ]
    },
    {
      "cell_type": "code",
      "metadata": {
        "id": "Xp0DssXQMSCs"
      },
      "source": [
        "# import sys\n",
        "# sys.path.append(\"./project_1\")\n",
        "# from AttentionMapGenerator import * \n",
        "# for i in range(16):\n",
        "#   i=str(i+1).zfill(4)\n",
        "#   generateAttentionMap(\"/content/gdrive/My Drive/exp/ConvLSTMAttention16_S/gtea61/rgb/stage2/model_rgb_state_dict.pth\",f\"/content/train_processed/frames/S4/fold_bread/1/rgb/rgb{i}.png\", f\"./prova{i}.jpg\")"
      ],
      "execution_count": null,
      "outputs": []
    },
    {
      "cell_type": "code",
      "metadata": {
        "id": "AI2xfld0XaOi"
      },
      "source": [
        "!rm -r ./ConvLSTMAttention16_S_R/rgb\n",
        "!rm -r Results\n",
        "\n",
        "!python3 project_1/RGB_projectNet_flowSup.py --supervision True --train_data_dir ./train_processed --val_data_dir ./test_processed --out_dir ConvLSTMAttention16_S_R  --seq_len 7 --train_batch_size 8 --num_epochs 150 --lr 1e-4 --lr_suphead 2e-5 --lr_resnet 5e-5 --step_size 80 110 140 --alpha 0.0005 --decay_rate 0.2\n",
        "#detachedd!!!!! 0.01 70"
      ],
      "execution_count": null,
      "outputs": []
    },
    {
      "cell_type": "markdown",
      "metadata": {
        "id": "swnweVO0LS5N"
      },
      "source": [
        "# MyNet"
      ]
    },
    {
      "cell_type": "code",
      "metadata": {
        "id": "XjmhqNWzLVZ3"
      },
      "source": [
        "from sklearn.model_selection import ParameterGrid\n",
        "import re\n",
        "\n",
        "\n",
        "#parameters=ParameterGrid({\"lr\":[3e-4,1e-4,8e-5] ,\"lr_head\":[0.7,0.2], \"lr_resnet\":[1.5,1,0.5]})\n",
        "parameters=ParameterGrid({\"lr\":[1e-4] ,\"lr_head\":[0.2], \"lr_resnet\":[0.5],\"Alpha\":[0.5]})\n",
        "\n",
        "for i,par in enumerate(parameters):\n",
        "  max_accuracy=0\n",
        "  if i<0:\n",
        "    continue\n",
        "  lr=par[\"lr\"]\n",
        "  lr_head=par[\"lr_head\"]*par[\"lr\"]\n",
        "  lr_resnet=par[\"lr_resnet\"] *par[\"lr\"]\n",
        "  alpha=par[\"Alpha\"]\n",
        "  !rm -r MYmistery\n",
        "  !rm -r Results\n",
        "  !python3 project_1/RGB_projectNet_flowSup.py --stage 0  --supervision True --trainDatasetDir ./train_processed --valDatasetDir ./test_processed --outDir MYmistery --seqLen 7 --trainBatchSize 8 --numEpochs 150 --lr $lr --lr_suphead $lr_head --lr_resnet $lr_resnet --alpha $alpha --stepSize 50 90 135  --decayRate 0.2 | grep val > newfile.txt\n",
        "  with open(\"newfile.txt\",\"r\") as f:\n",
        "    lines=f.readlines()\n",
        "  for line in lines:\n",
        "    a=float(re.findall(\"[0-9]*\\.?[0-9]+\",line)[2])\n",
        "    if a>max_accuracy:\n",
        "      max_accuracy=a\n",
        "  with open(\"/content/gdrive/My Drive/exp/results.txt\",\"a\") as f:\n",
        "    f.write(\"index \"+str(i)+\"modified\"+\": \"+str(parameters[i])+\" Acc: \"+str(max_accuracy)+\"\\n\")"
      ],
      "execution_count": null,
      "outputs": []
    },
    {
      "cell_type": "code",
      "metadata": {
        "id": "jepQK7SJYHDM",
        "colab": {
          "base_uri": "https://localhost:8080/",
          "height": 52
        },
        "outputId": "bf9825b0-4754-439e-e1f3-a03df27ef704"
      },
      "source": [
        "!python3 project_1/RGB_projectNet_flowSup.py --stage 0  --supervision True --trainDatasetDir ./train_processed --valDatasetDir ./test_processed --outDir MYmistery --seqLen 7 --trainBatchSize 8 --numEpochs 120 --lr $lr --lr_suphead $lr_head --lr_resnet $lr_resnet --alpha 0.5 --stepSize 50 90  --decayRate 0.2 | grep val > newfile.txt\n"
      ],
      "execution_count": null,
      "outputs": [
        {
          "output_type": "stream",
          "text": [
            "Exception ignored in: <_io.TextIOWrapper name='<stdout>' mode='w' encoding='UTF-8'>\n",
            "BrokenPipeError: [Errno 32] Broken pipe\n"
          ],
          "name": "stdout"
        }
      ]
    }
  ]
}